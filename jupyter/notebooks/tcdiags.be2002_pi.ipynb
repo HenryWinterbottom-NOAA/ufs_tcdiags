{
 "cells": [
  {
   "cell_type": "markdown",
   "metadata": {},
   "source": [
    "### Python Environment"
   ]
  },
  {
   "cell_type": "code",
   "execution_count": null,
   "metadata": {},
   "outputs": [],
   "source": [
    "import matplotlib.pyplot as plt\n",
    "import numpy\n",
    "from tcdiags.tcdiags import TCDiags\n",
    "from plottools.build_basemap import build_basemap\n",
    "from plottools.draw_basemap import draw_basemap\n",
    "from tools import parser_interface"
   ]
  },
  {
   "cell_type": "markdown",
   "metadata": {},
   "source": [
    "### User Configuration"
   ]
  },
  {
   "cell_type": "code",
   "execution_count": null,
   "metadata": {},
   "outputs": [],
   "source": [
    "# YAML-formatted configuration files.\n",
    "yaml_file = \"/path/to/ufs_tcdiags/parm/tcdiags.demo.yaml\"\n",
    "tcpi_file = \"/path/to/ufs_tcdiags/parm/tcdiags.be2002_pi.yaml\" \n",
    "\n",
    "# Plotting attributes.\n",
    "import cmocean\n",
    "mslp_cint = 25.0\n",
    "mslp_cmax = 1025.0\n",
    "mslp_cmin = 850.0\n",
    "mslp_cmap = cmocean.cm.haline\n",
    "\n",
    "vmax_cint = 20.0\n",
    "vmax_cmax = 120.0\n",
    "vmax_cmin = 0.0\n",
    "vmax_cmap = \"jet\""
   ]
  },
  {
   "cell_type": "markdown",
   "metadata": {},
   "source": [
    "### Compute the tropical cyclone potential intensity metrics."
   ]
  },
  {
   "cell_type": "code",
   "execution_count": null,
   "metadata": {
    "scrolled": false
   },
   "outputs": [],
   "source": [
    "options_obj = parser_interface.object_define()\n",
    "options_obj.yaml_file = yaml_file\n",
    "options_obj.tcpi = tcpi_file\n",
    "tcpi_obj = TCDiags(options_obj=options_obj)\n",
    "tcpi = tcpi_obj.run(write_output=False)"
   ]
  },
  {
   "cell_type": "markdown",
   "metadata": {},
   "source": [
    "### Plot the tropical cyclone potential intensity metrics."
   ]
  },
  {
   "cell_type": "code",
   "execution_count": null,
   "metadata": {},
   "outputs": [],
   "source": [
    "levels = numpy.linspace(mslp_cmin, mslp_cmax, 255)\n",
    "(basemap, x, y) = build_basemap(lat=tcpi.lats, lon=tcpi.lons)\n",
    "draw_basemap(basemap=basemap)\n",
    "basemap.contourf(x, y, tcpi.pmin.values, levels=levels, cmap=mslp_cmap)\n",
    "ticks = numpy.arange(mslp_cmin, (mslp_cmax + 0.01), mslp_cint)\n",
    "plt.colorbar(orientation=\"horizontal\", ticks=ticks, pad=0.1,\n",
    "    aspect=50, \n",
    "    label=\"Potential Intensity :: Sea-Level Pressure (hPa)\")\n",
    "plt.savefig(\"tcpi.pmin.png\", dpi=500, transparent=True, bbox_inches=\"tight\")\n",
    "plt.show()   \n",
    "\n",
    "levels = numpy.linspace(vmax_cmin, vmax_cmax, 255)\n",
    "(basemap, x, y) = build_basemap(lat=tcpi.lats, lon=tcpi.lons)\n",
    "draw_basemap(basemap=basemap)\n",
    "basemap.contourf(x, y, tcpi.vmax.values, levels=levels, cmap=vmax_cmap)\n",
    "ticks = numpy.arange(vmax_cmin, (vmax_cmax + 0.01), vmax_cint)\n",
    "plt.colorbar(orientation=\"horizontal\", ticks=ticks, pad=0.1,\n",
    "            aspect=50, \n",
    "            label=\"Potential Intensity :: Wind Speed (mps)\")\n",
    "plt.savefig(\"tcpi.vmax.png\", dpi=500, transparent=True, bbox_inches=\"tight\")\n",
    "plt.show()"
   ]
  }
 ],
 "metadata": {
  "kernelspec": {
   "display_name": "Python 3 (ipykernel)",
   "language": "python",
   "name": "python3"
  },
  "language_info": {
   "codemirror_mode": {
    "name": "ipython",
    "version": 3
   },
   "file_extension": ".py",
   "mimetype": "text/x-python",
   "name": "python",
   "nbconvert_exporter": "python",
   "pygments_lexer": "ipython3",
   "version": "3.8.10"
  }
 },
 "nbformat": 4,
 "nbformat_minor": 2
}
