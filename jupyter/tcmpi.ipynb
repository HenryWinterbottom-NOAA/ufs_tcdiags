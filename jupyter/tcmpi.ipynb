{
 "cells": [
  {
   "cell_type": "markdown",
   "metadata": {},
   "source": [
    "### Define the Python Environment"
   ]
  },
  {
   "cell_type": "code",
   "execution_count": null,
   "metadata": {},
   "outputs": [],
   "source": [
    "# Load the Python environment.\n",
    "import matplotlib.pyplot as plt\n",
    "import numpy\n",
    "import tcdiags\n",
    "from exceptions import TropCycMPIError\n",
    "from ioapps import netcdf4_interface\n",
    "from mpl_toolkits.basemap import Basemap\n",
    "from tools import parser_interface"
   ]
  },
  {
   "cell_type": "markdown",
   "metadata": {},
   "source": [
    "## Jupyter Notebook: tcmpi.ipynb\n",
    "\n",
    "Email: henry.winterbottom@noaa.gov\n",
    "\n",
    "This program is free software: you can redistribute it and/or modify\n",
    "it under the terms of the respective public license published by the\n",
    "Free Software Foundation and included with the repository within\n",
    "which this application is contained.\n",
    "\n",
    "This program is distributed in the hope that it will be useful, but\n",
    "WITHOUT ANY WARRANTY; without even the implied warranty of\n",
    "MERCHANTABILITY or FITNESS FOR A PARTICULAR PURPOSE.\n",
    "\n",
    "---\n",
    "\n",
    "## Description\n",
    "\n",
    "<br>This Jupyter notebook provides an application to compute and plot tropical cyclone (TC) maximum potential intensity (MPI) as decribed in Bister and Emanuel.</br>\n",
    "\n",
    "## Author\n",
    "\n",
    "<br>Henry R. Winterbottom; 14 March 2023</br>\n",
    "\n",
    "---\n",
    "\n",
    "<b>Licensing:</b> GNU Lesser General Public License v2.1<br>\n",
    "<b>Maintainer:</b> Henry R. Winterbottom (henry.winterbottom@noaa.gov)<br>\n",
    "<b>History:</b><br>\n",
    "<ul>\n",
    "    <li>2023-03-14: Henry Winterbottom -- Initial implementation.</li>\n",
    "</ul>\n",
    "\n",
    "---"
   ]
  },
  {
   "cell_type": "markdown",
   "metadata": {},
   "source": [
    "### User Configuration"
   ]
  },
  {
   "cell_type": "code",
   "execution_count": null,
   "metadata": {},
   "outputs": [],
   "source": [
    "# Define the path to the YAML-formatted TC-diagnostics configuration file.\n",
    "yaml_file = \"/Users/henry.winterbottom/trunk/UFS/ufs_tcdiags/parm/tcdiags.notebook.yaml\"\n",
    "\n",
    "# Define the TC MPI metric plotting attributes.\n",
    "import cmocean\n",
    "mslp_cint = 25.0\n",
    "mslp_cmax = 1025.0\n",
    "mslp_cmin = 850.0\n",
    "mslp_cmap = cmocean.cm.haline\n",
    "\n",
    "vmax_cint = 20.0\n",
    "vmax_cmax = 120.0\n",
    "vmax_cmin = 0.0\n",
    "vmax_cmap = \"jet\""
   ]
  },
  {
   "cell_type": "markdown",
   "metadata": {},
   "source": [
    "### Compute the Tropical Cyclone Maximum Potential Intensity"
   ]
  },
  {
   "cell_type": "code",
   "execution_count": null,
   "metadata": {},
   "outputs": [],
   "source": [
    "# Define the configuration object attributes.\n",
    "config_obj = parser_interface.object_define()\n",
    "config_obj = parser_interface.object_setattr(\n",
    "    object_in=config_obj, key=\"yaml_file\", value=yaml_file)\n",
    "config_obj = parser_interface.object_setattr(\n",
    "    object_in=config_obj, key=\"tcmpi\", value=\"True\")\n",
    "\n",
    "# Compute the tropical cyclone (TC) maximum potential intensity (MPI) metrics.\n",
    "tcmpi = tcdiags.TCDiags(options_obj=config_obj)\n",
    "tcmpi_out = parser_interface.dict_key_value(\n",
    "    dict_in=tcmpi.yaml_dict[\"tcmpi\"], key=\"output_file\", force=True,\n",
    "    no_split=True)\n",
    "if tcmpi_out is None:\n",
    "    msg = (\"The attribute `output_file` could not be determined for the \"\n",
    "           f\"{parse_interface.dict_key_value(dict_in=tcmpi.yaml_dict,key='tcmpi')}.\"\n",
    "           \"Aborting!!!\"\n",
    "          )\n",
    "    raise TropCycMPIError(msg=msg)\n",
    "        \n",
    "tcmpi.run()"
   ]
  },
  {
   "cell_type": "markdown",
   "metadata": {},
   "source": [
    "### Build the Basemap Attributes"
   ]
  },
  {
   "cell_type": "code",
   "execution_count": null,
   "metadata": {},
   "outputs": [],
   "source": [
    "def build_basemap():\n",
    "    \n",
    "    # Define the basemap attributes and return.\n",
    "    basemap = Basemap(resolution=\"c\", projection=\"cyl\",\n",
    "                     llcrnrlat=-90.0, llcrnrlon=0.0,\n",
    "                     urcrnrlat=90.0, urcrnrlon=360.0)\n",
    "    (x, y) = numpy.meshgrid(lon, lat)\n",
    "    \n",
    "    basemap.drawcoastlines(color=\"lightgray\", linewidth=0.25)\n",
    "    basemap.drawmeridians(color=\"black\", meridians=numpy.arange(0.0, 360.01, 30.0),\n",
    "                          labels=[False, False, True, True],linewidth=0.1, dashes=[10, 10], \n",
    "                          fontsize=8)\n",
    "    basemap.drawparallels(color=\"black\", circles=numpy.arange(-80.0, 80.01, 40.0),\n",
    "                          labels=[True, True, False, False], linewidth=0.1, dashes=[10,10], \n",
    "                          fontsize=8)\n",
    "    basemap.fillcontinents(color=\"lightgray\")\n",
    "    \n",
    "    return (basemap, x,y)"
   ]
  },
  {
   "cell_type": "markdown",
   "metadata": {},
   "source": [
    "### Plot the Tropical Cyclone Maximum Potential Intensity Metrics"
   ]
  },
  {
   "cell_type": "code",
   "execution_count": null,
   "metadata": {},
   "outputs": [],
   "source": [
    "# Read in the grid projection attributes; scale accordingly.\n",
    "(lat, lon) = [netcdf4_interface.ncreadvar(ncfile=tcmpi_out,\n",
    "                                         ncvarname=varname) for varname in [\"lat\", \"lon\"]]\n",
    "lon = lon + 360.0\n",
    "\n",
    "# Read in the TC MPI metrics.\n",
    "mslp = netcdf4_interface.ncreadvar(ncfile=tcmpi_out,\n",
    "                                  ncvarname=\"mslp\")\n",
    "vmax = netcdf4_interface.ncreadvar(ncfile=tcmpi_out,\n",
    "                                  ncvarname=\"vmax\")\n",
    "\n",
    "# Plot the TC MPI minimum sea-level pressure metric.\n",
    "levels = numpy.linspace(mslp_cmin, mslp_cmax, 255)\n",
    "(basemap, x, y) = build_basemap()\n",
    "basemap.contourf(x, y, mslp/100.0, levels=levels, cmap=mslp_cmap)\n",
    "ticks = numpy.arange(mslp_cmin, (mslp_cmax + 0.01), mslp_cint)\n",
    "plt.colorbar(orientation=\"horizontal\", ticks=ticks, pad=0.1,\n",
    "            aspect=50, label=\"Maximum Potential Intensity Sea-Level Pressure (hPa)\")\n",
    "plt.savefig(\"tcmpi.mslp.png\", dpi=500, transparent=True, bbox_inches=\"tight\")\n",
    "plt.show()   \n",
    "\n",
    "# Plot the TC MPI maximum wind speed metric.\n",
    "levels = numpy.linspace(vmax_cmin, vmax_cmax, 255)\n",
    "(basemap, x, y) = build_basemap()\n",
    "basemap.contourf(x, y, vmax, levels=levels, cmap=vmax_cmap)\n",
    "ticks = numpy.arange(vmax_cmin, (vmax_cmax + 0.01), vmax_cint)\n",
    "plt.colorbar(orientation=\"horizontal\", ticks=ticks, pad=0.1,\n",
    "            aspect=50, label=\"Maximum Potential Intensity Wind Speed (ms$^{-1}$)\")\n",
    "plt.savefig(\"tcmpi.vmax.png\", dpi=500, transparent=True, bbox_inches=\"tight\")\n",
    "plt.show()"
   ]
  }
 ],
 "metadata": {
  "kernelspec": {
   "display_name": "Python 3",
   "language": "python",
   "name": "python3"
  },
  "language_info": {
   "codemirror_mode": {
    "name": "ipython",
    "version": 3
   },
   "file_extension": ".py",
   "mimetype": "text/x-python",
   "name": "python",
   "nbconvert_exporter": "python",
   "pygments_lexer": "ipython3",
   "version": "3.7.3"
  }
 },
 "nbformat": 4,
 "nbformat_minor": 2
}
