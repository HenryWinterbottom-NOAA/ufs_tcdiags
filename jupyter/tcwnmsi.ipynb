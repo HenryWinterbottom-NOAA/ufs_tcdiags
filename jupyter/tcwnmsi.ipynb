{
 "cells": [
  {
   "cell_type": "markdown",
   "metadata": {},
   "source": [
    "### Define the Python Environment"
   ]
  },
  {
   "cell_type": "code",
   "execution_count": null,
   "metadata": {},
   "outputs": [],
   "source": [
    "# Load the Python environment.\n",
    "from collections import OrderedDict\n",
    "\n",
    "import matplotlib.pyplot as plt\n",
    "import numpy\n",
    "from ioapps import netcdf4_interface\n",
    "from IPython.display import HTML, display\n",
    "from tabulate import tabulate\n",
    "from tools import parser_interface"
   ]
  },
  {
   "cell_type": "markdown",
   "metadata": {},
   "source": [
    "## Jupyter Notebook: tcwnmsi.ipynb\n",
    "\n",
    "Email: henry.winterbottom@noaa.gov\n",
    "\n",
    "This program is free software: you can redistribute it and/or modify\n",
    "it under the terms of the respective public license published by the\n",
    "Free Software Foundation and included with the repository within\n",
    "which this application is contained.\n",
    "\n",
    "This program is distributed in the hope that it will be useful, but\n",
    "WITHOUT ANY WARRANTY; without even the implied warranty of\n",
    "MERCHANTABILITY or FITNESS FOR A PARTICULAR PURPOSE.\n",
    "\n",
    "---\n",
    "\n",
    "## Description\n",
    "\n",
    "<br>This Jupyter notebook provides an application to compute and plot tropical cyclone (TC) multi-scale intensity attributes as decribed in Vukicevic et. al., [2014].</br>\n",
    "\n",
    "## Author\n",
    "\n",
    "<br>Henry R. Winterbottom; 19 March 2023</br>\n",
    "\n",
    "---\n",
    "\n",
    "<b>Licensing:</b> GNU Lesser General Public License v2.1<br>\n",
    "<b>Maintainer:</b> Henry R. Winterbottom (henry.winterbottom@noaa.gov)<br>\n",
    "<b>History:</b><br>\n",
    "<ul>\n",
    "    <li>2023-03-19: Henry Winterbottom -- Initial implementation.</li>\n",
    "</ul>\n",
    "\n",
    "---"
   ]
  },
  {
   "cell_type": "markdown",
   "metadata": {},
   "source": [
    "### User Configuration"
   ]
  },
  {
   "cell_type": "code",
   "execution_count": null,
   "metadata": {},
   "outputs": [],
   "source": [
    "# Define the netCDF-formatted file path containing the TC MSI attributes.\n",
    "ncfile = \"/Users/henry.winterbottom/work/tcdiags/14L.TCMSI.nc\"\n",
    "\n",
    "# Define the total number of total-wind field wave number components to plot.\n",
    "n_wavenum = 2\n",
    "\n",
    "# Define the TC MSI plotting attributes for the total wind and wave-number 0.\n",
    "vmax_cint = 5.0\n",
    "vmax_cmax = 30.0\n",
    "vmax_cmin = 0.0\n",
    "vmax_cmap = \"jet\"\n",
    "\n",
    "# Define the TC MSI plotting attributes for the wave-number 1 - wave-number N fields.\n",
    "wn_cint = 1.0\n",
    "wn_cmax = 5.0\n",
    "wn_cmin = -5.0\n",
    "wn_cmap = \"seismic\"\n",
    "\n",
    "# Define the TC MSI attributes stored as netCDF global attributes; \n",
    "# this dictionary contains the global attribute name and the corresponding units.\n",
    "tcmsi_gattrs_dict = OrderedDict({\"lat_0_deg\":{\"name\": \"Center Latitude\", \"units\": \"degrees\"},\n",
    "                                 \"lon_0_deg\":{\"name\": \"Center Longitude\", \"units\": \"degrees\"},\n",
    "                                 \"vmax_mps\": {\"name\": \"Maximum 10-meter Wind Speed\", \"units\": \"m/s\"},\n",
    "                                 \"wn0_msi_mps\": {\"name\": \"Wavenumber-0 Maximum Wind Speed\", \"units\": \"m/s\"},\n",
    "                                 \"wn1_msi_mps\": {\"name\": \"Wavenumber-1 Maximum Wind Speed\", \"units\": \"m/s\"},\n",
    "                                 \"wn0p1_msi_mps\": {\"name\": \"Wavenumbers (0+1) Maximum Wind Speed\", \"units\": \"m/s\"},\n",
    "                                 \"epsi_msi_mps\": {\"name\": \"Residual Wavenumber Maximum Wind Speed\", \"units\": \"m/s\"},\n",
    "                                 \"lat_rmw_deg\": {\"name\": \"Radius of Maximum Wind Latitude\", \"units\": \"degrees\"},\n",
    "                                 \"lon_rmw_deg\": {\"name\": \"Radius of Maximum Wind Longitude\", \"units\": \"degrees\"},\n",
    "                                })"
   ]
  },
  {
   "cell_type": "markdown",
   "metadata": {},
   "source": [
    "### Plot the Tropical Cyclone Multi-scale Intensity Attributes"
   ]
  },
  {
   "cell_type": "code",
   "execution_count": null,
   "metadata": {},
   "outputs": [],
   "source": [
    "# Build a table containing the TC MSI attributes.\n",
    "header = [\"TC MSI Attributes\", \"Value (Units)\"]\n",
    "\n",
    "table = []\n",
    "\n",
    "for tcmsi_attr in tcmsi_gattrs_dict:\n",
    "    value = netcdf4_interface.ncreadattr(ncfile=ncfile, ncattrname=tcmsi_attr)\n",
    "    name = parser_interface.dict_key_value(dict_in=tcmsi_gattrs_dict[tcmsi_attr],\n",
    "                                           key=\"name\", no_split=True)\n",
    "    units = parser_interface.dict_key_value(dict_in=tcmsi_gattrs_dict[tcmsi_attr],\n",
    "                                           key=\"units\", no_split=True)\n",
    "    \n",
    "    msg = [name, f\"{value} ({units})\"]\n",
    "    table.append(msg)\n",
    "    \n",
    "# Display the table.\n",
    "table = tabulate(table, header, tablefmt=\"html\", numalign=(\"center\", \"center\"),\n",
    "                colalign=(\"center\",\"center\")) \n",
    "display(HTML(table))\n",
    "\n",
    "# Collect the grid attributes.\n",
    "azimuth = netcdf4_interface.ncreadvar(ncfile=ncfile, ncvarname=\"azimuth\")\n",
    "radial = netcdf4_interface.ncreadvar(ncfile=ncfile, ncvarname=\"radial\")\n",
    "\n",
    "# Define the plotting attributes.\n",
    "levels = numpy.linspace(vmax_cmin, vmax_cmax, 255)\n",
    "\n",
    "# Plot the total wind field.\n",
    "(fig, ax) = plt.subplots(subplot_kw={'projection': 'polar'})\n",
    "total_wind = netcdf4_interface.ncreadvar(ncfile=ncfile, ncvarname=\"total_wind\")\n",
    "plot = ax.contourf(azimuth, radial, total_wind, levels=levels, cmap=vmax_cmap)\n",
    "ticks = numpy.arange(vmax_cmin, (vmax_cmax + 0.01), vmax_cint)\n",
    "plt.colorbar(plot, orientation=\"horizontal\", ticks=ticks, pad=0.1,\n",
    "             aspect=50, label=\"Total Wind Speed (m$^{-1}$)\")\n",
    "plt.savefig(\"tcwnmsi.total_wind.png\", dpi=500, transparent=True, bbox_inches=\"tight\")\n",
    "plt.show()\n",
    "\n",
    "# Plot the wave-number 0 wind field.\n",
    "(fig, ax) = plt.subplots(subplot_kw={'projection': 'polar'})\n",
    "wn0 = netcdf4_interface.ncreadvar(ncfile=ncfile, ncvarname=\"wn0\")\n",
    "plot = ax.contourf(azimuth, radial, wn0, levels=levels, cmap=vmax_cmap)\n",
    "ticks = numpy.arange(vmax_cmin, (vmax_cmax + 0.01), vmax_cint)\n",
    "plt.colorbar(plot, orientation=\"horizontal\", ticks=ticks, pad=0.1,\n",
    "             aspect=50, label=\"Wavenumber-0 Wind Speed (m$^{-1}$)\")\n",
    "plt.savefig(\"tcwnmsi.wn0_wind.png\", dpi=500, transparent=True, bbox_inches=\"tight\")\n",
    "plt.show()\n",
    "\n",
    "# Plot the higher-order wavenumber structures.\n",
    "levels = numpy.linspace(wn_cmin, wn_cmax, 255)\n",
    "\n",
    "for wn in range(1, n_wavenum):\n",
    "    (fig, ax) = plt.subplots(subplot_kw={'projection': 'polar'})\n",
    "    wnfield = netcdf4_interface.ncreadvar(ncfile=ncfile, ncvarname=f\"wn{wn}\")\n",
    "    plot = ax.contourf(azimuth, radial, wnfield, levels=levels, cmap=wn_cmap)\n",
    "    ticks = numpy.arange(wn_cmin, (wn_cmax + 0.01), wn_cint)\n",
    "    plt.colorbar(plot, orientation=\"horizontal\", ticks=ticks, pad=0.1,\n",
    "                 aspect=50, label=f\"Wavenumber-{wn} Wind Speed (m$^{-1}$)\")\n",
    "    plt.savefig(f\"tcwnmsi.wn{wn}_wind.png\", dpi=500, transparent=True, bbox_inches=\"tight\")\n",
    "    plt.show()"
   ]
  },
  {
   "cell_type": "code",
   "execution_count": null,
   "metadata": {},
   "outputs": [],
   "source": []
  }
 ],
 "metadata": {
  "kernelspec": {
   "display_name": "Python 3",
   "language": "python",
   "name": "python3"
  },
  "language_info": {
   "codemirror_mode": {
    "name": "ipython",
    "version": 3
   },
   "file_extension": ".py",
   "mimetype": "text/x-python",
   "name": "python",
   "nbconvert_exporter": "python",
   "pygments_lexer": "ipython3",
   "version": "3.7.3"
  }
 },
 "nbformat": 4,
 "nbformat_minor": 5
}
